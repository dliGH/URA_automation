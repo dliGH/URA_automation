{
 "cells": [
  {
   "cell_type": "markdown",
   "metadata": {},
   "source": [
    "In order to run this automation script please refer to\n",
    "1. Getting Started with Selenium: https://selenium-python.readthedocs.io/\n",
    "2. Selenium Webdriver: https://pypi.org/project/selenium/ (scroll down to \"Drivers\")\n",
    "3. Selenium API: https://www.selenium.dev/selenium/docs/api/py/api.html\n",
    "\n",
    "Written for Python version 3.8.3, Selenium version 3.141.0"
   ]
  },
  {
   "cell_type": "markdown",
   "metadata": {},
   "source": [
    "Just importing libraries below and indicating the filepath to the webdriver."
   ]
  },
  {
   "cell_type": "code",
   "execution_count": 6,
   "metadata": {},
   "outputs": [],
   "source": [
    "import time\n",
    "from selenium import webdriver\n",
    "\n",
    "PATH = \"/Users/USER/Documents/Selenium Webdriver/chromedriver\"\n",
    "driver = webdriver.Chrome(PATH)"
   ]
  },
  {
   "cell_type": "markdown",
   "metadata": {},
   "source": [
    "Replace USER and PASS with UChicago log-in credentials"
   ]
  },
  {
   "cell_type": "code",
   "execution_count": 7,
   "metadata": {},
   "outputs": [],
   "source": [
    "username = \"USER\"\n",
    "password = \"PASS\""
   ]
  },
  {
   "cell_type": "code",
   "execution_count": 8,
   "metadata": {},
   "outputs": [],
   "source": [
    "driver.get('https://aura.uchicago.edu/');\n",
    "driver.find_element_by_xpath('//*[@id=\"block-block-1\"]/div/table[1]/tbody/tr/td[1]/a').click()\n",
    "\n",
    "user_input = driver.find_element_by_name('j_username')\n",
    "user_input.send_keys(username)\n",
    "pass_input = driver.find_element_by_name('j_password')\n",
    "pass_input.send_keys(password)\n",
    "driver.find_element_by_name('_eventId_proceed').click()"
   ]
  },
  {
   "cell_type": "markdown",
   "metadata": {},
   "source": [
    "At this point there will be the Duo Login screen - should manually log in\n",
    "\n",
    "Then next is to convert the list of FP into something python can use, "
   ]
  },
  {
   "cell_type": "code",
   "execution_count": 27,
   "metadata": {
    "scrolled": true
   },
   "outputs": [
    {
     "name": "stdout",
     "output_type": "stream",
     "text": [
      "['FP100286', 'FP100172', 'FP100341', 'FP100264', 'FP100338', 'FP100340', 'FP100388', 'FP100296', 'FP100387', 'FP070329-01-PR_Res1', 'FP100412', 'FP100301', 'FP100311', 'FP100339', 'FP100228', 'FP100142', 'FP100335', 'FP100320', 'FP100438', 'FP100426', 'FP100466', 'FP100484', 'FP100306', 'FP100304', 'FP100417', 'FP100501', 'FP100280', 'FP100354', 'FP100476', 'FP100511', 'FP100477', 'FP100549', 'FP100544', 'FP100503', 'FP100571', 'FP100486', 'FP100572', 'FP100448', 'FP100485', 'FP100557', 'FP100547', 'FP100591', 'FP100592', 'FP100536', 'FP100496']\n"
     ]
    }
   ],
   "source": [
    "#get list of FP numbers here\n",
    "\n",
    "# importing modlue\n",
    "from pandas import *\n",
    "  \n",
    "# reading CSV file\n",
    "data = read_csv(\"FP list FY19.csv\")\n",
    "  \n",
    "# converting column data to list\n",
    "FP_LIST = data[\"FP Vals\"].tolist() \n",
    "\n",
    "print(FP_LIST)\n",
    "\n",
    "COMMENT = \"This is an administrative activity updating the state of unfunded proposals to “Not Funded” for reporting purposes. No action required.\""
   ]
  },
  {
   "cell_type": "markdown",
   "metadata": {},
   "source": [
    "The following loops the same action (in this case, changing the funding status) for every FP in the FP list from above. Can possibly be modified for potential projects."
   ]
  },
  {
   "cell_type": "code",
   "execution_count": 28,
   "metadata": {},
   "outputs": [],
   "source": [
    "#for FP_NAME in FP_LIST\n",
    "\n",
    "for FP_NAME in FP_LIST:\n",
    "\n",
    "    driver.find_element_by_xpath('//*[@id=\"GlobalNavigation\"]/div[1]/div/a[3]').click()\n",
    "\n",
    "    time.sleep(2)\n",
    "\n",
    "    fp_input = driver.find_element_by_xpath('/html/body/main/table/tbody/tr[1]/td/table/tbody/tr[2]/td/div/section/span/table[2]/tbody/tr/td/span/span/div/table/tbody/tr/td[1]/div/input')\n",
    "\n",
    "    time.sleep(2)\n",
    "\n",
    "    fp_input.clear()\n",
    "    fp_input.send_keys(FP_NAME)\n",
    "\n",
    "    time.sleep(2)\n",
    "\n",
    "    driver.find_element_by_xpath('/html/body/main/table/tbody/tr[1]/td/table/tbody/tr[2]/td/div/section/span/table[2]/tbody/tr/td/span/span/div/table/tbody/tr/td[1]/div/button[1]').click()\n",
    "    \n",
    "    time.sleep(2)\n",
    "    \n",
    "    state = driver.find_element_by_xpath('/html/body/main/table/tbody/tr[1]/td/table/tbody/tr[2]/td/div/section/span/table[2]/tbody/tr/td/span/span/div/div[2]/table/tbody/tr/td[5]/span').text \n",
    "    \n",
    "    if state != 'Pending Sponsor Review':\n",
    "        continue \n",
    "    \n",
    "    #link location of FP\n",
    "    time.sleep(2)\n",
    "\n",
    "    driver.find_element_by_xpath('//table/tbody/tr/td[3]/span/a').click()\n",
    "\n",
    "    #link location to withdraw\n",
    "    driver.find_element_by_xpath('/html/body/main/table/tbody/tr[1]/td/table/tbody/tr[1]/td/span[6]/div/table/tbody/tr[3]/td[2]/a').click()\n",
    "\n",
    "    #managing popup window\n",
    "    main_window_handle = None\n",
    "    while not main_window_handle:\n",
    "        main_window_handle = driver.current_window_handle\n",
    "\n",
    "    comment_window_handle = None\n",
    "    while not comment_window_handle:\n",
    "        for handle in driver.window_handles:\n",
    "            if handle != main_window_handle:\n",
    "                comment_window_handle = handle\n",
    "                break\n",
    "\n",
    "    driver.switch_to.window(comment_window_handle)\n",
    "\n",
    "    time.sleep(2)\n",
    "\n",
    "    driver.find_element_by_xpath('/html/body/form/table[2]/tbody/tr/td/div/div/div/ol/li[1]/div/span[2]/table/tbody/tr[3]/td[1]/input[1]').click()\n",
    "\n",
    "    comment_input = driver.find_element_by_xpath('/html/body/form/table[2]/tbody/tr/td/div/div/div/ol/li[2]/span/span/textarea')\n",
    "    comment_input.send_keys(COMMENT)\n",
    "    \n",
    "    time.sleep(1)\n",
    "    \n",
    "    driver.find_element_by_xpath('/html/body/form/table[2]/tbody/tr/td/table[2]/tbody/tr/td/input[5]').click()\n",
    "\n",
    "    time.sleep(2)\n",
    "\n",
    "    driver.switch_to.window(main_window_handle) "
   ]
  }
 ],
 "metadata": {
  "kernelspec": {
   "display_name": "Python 3",
   "language": "python",
   "name": "python3"
  },
  "language_info": {
   "codemirror_mode": {
    "name": "ipython",
    "version": 3
   },
   "file_extension": ".py",
   "mimetype": "text/x-python",
   "name": "python",
   "nbconvert_exporter": "python",
   "pygments_lexer": "ipython3",
   "version": "3.8.3"
  }
 },
 "nbformat": 4,
 "nbformat_minor": 4
}
